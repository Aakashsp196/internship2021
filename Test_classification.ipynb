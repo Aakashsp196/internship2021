{
 "cells": [
  {
   "cell_type": "code",
   "execution_count": 1,
   "metadata": {},
   "outputs": [],
   "source": [
    "import json\n",
    "import pandas as pd\n",
    "from pandas import DataFrame"
   ]
  },
  {
   "cell_type": "code",
   "execution_count": 2,
   "metadata": {},
   "outputs": [],
   "source": [
    "#loading the  dataset\n",
    "with open (\"C:/Users/Aakash Sadaphule/Desktop/Untitled Folder/archive/MMHS150K_GT.json\") as f:\n",
    "    data = json.load(f)"
   ]
  },
  {
   "cell_type": "code",
   "execution_count": 3,
   "metadata": {},
   "outputs": [],
   "source": [
    "data=pd.DataFrame.from_dict(data)\n",
    "data=data.T\n",
    "data=data.reset_index()\n",
    "data.rename(columns={\"index\":\"user_id\"},inplace=True)"
   ]
  },
  {
   "cell_type": "code",
   "execution_count": 4,
   "metadata": {},
   "outputs": [
    {
     "name": "stdout",
     "output_type": "stream",
     "text": [
      "No. of rows: 149823 and columns are: 6\n"
     ]
    },
    {
     "data": {
      "text/html": [
       "<div>\n",
       "<style scoped>\n",
       "    .dataframe tbody tr th:only-of-type {\n",
       "        vertical-align: middle;\n",
       "    }\n",
       "\n",
       "    .dataframe tbody tr th {\n",
       "        vertical-align: top;\n",
       "    }\n",
       "\n",
       "    .dataframe thead th {\n",
       "        text-align: right;\n",
       "    }\n",
       "</style>\n",
       "<table border=\"1\" class=\"dataframe\">\n",
       "  <thead>\n",
       "    <tr style=\"text-align: right;\">\n",
       "      <th></th>\n",
       "      <th>user_id</th>\n",
       "      <th>img_url</th>\n",
       "      <th>labels</th>\n",
       "      <th>tweet_url</th>\n",
       "      <th>tweet_text</th>\n",
       "      <th>labels_str</th>\n",
       "    </tr>\n",
       "  </thead>\n",
       "  <tbody>\n",
       "    <tr>\n",
       "      <th>0</th>\n",
       "      <td>1114679353714016256</td>\n",
       "      <td>http://pbs.twimg.com/tweet_video_thumb/D3gi9MH...</td>\n",
       "      <td>[4, 1, 3]</td>\n",
       "      <td>https://twitter.com/user/status/11146793537140...</td>\n",
       "      <td>@FriskDontMiss Nigga https://t.co/cAsaLWEpue</td>\n",
       "      <td>[Religion, Racist, Homophobe]</td>\n",
       "    </tr>\n",
       "    <tr>\n",
       "      <th>1</th>\n",
       "      <td>1063020048816660480</td>\n",
       "      <td>http://pbs.twimg.com/ext_tw_video_thumb/106301...</td>\n",
       "      <td>[5, 5, 5]</td>\n",
       "      <td>https://twitter.com/user/status/10630200488166...</td>\n",
       "      <td>My horses are retarded https://t.co/HYhqc6d5WN</td>\n",
       "      <td>[OtherHate, OtherHate, OtherHate]</td>\n",
       "    </tr>\n",
       "    <tr>\n",
       "      <th>2</th>\n",
       "      <td>1108927368075374593</td>\n",
       "      <td>http://pbs.twimg.com/media/D2OzhzHUwAADQjd.jpg</td>\n",
       "      <td>[0, 0, 0]</td>\n",
       "      <td>https://twitter.com/user/status/11089273680753...</td>\n",
       "      <td>“NIGGA ON MA MOMMA YOUNGBOY BE SPITTING REAL S...</td>\n",
       "      <td>[NotHate, NotHate, NotHate]</td>\n",
       "    </tr>\n",
       "    <tr>\n",
       "      <th>3</th>\n",
       "      <td>1114558534635618305</td>\n",
       "      <td>http://pbs.twimg.com/ext_tw_video_thumb/111401...</td>\n",
       "      <td>[1, 0, 0]</td>\n",
       "      <td>https://twitter.com/user/status/11145585346356...</td>\n",
       "      <td>RT xxSuGVNGxx: I ran into this HOLY NIGGA TODA...</td>\n",
       "      <td>[Racist, NotHate, NotHate]</td>\n",
       "    </tr>\n",
       "    <tr>\n",
       "      <th>4</th>\n",
       "      <td>1035252480215592966</td>\n",
       "      <td>http://pbs.twimg.com/media/Dl30pGIU8AAVGxO.jpg</td>\n",
       "      <td>[1, 0, 1]</td>\n",
       "      <td>https://twitter.com/user/status/10352524802155...</td>\n",
       "      <td>“EVERYbody calling you Nigger now!” https://t....</td>\n",
       "      <td>[Racist, NotHate, Racist]</td>\n",
       "    </tr>\n",
       "  </tbody>\n",
       "</table>\n",
       "</div>"
      ],
      "text/plain": [
       "               user_id                                            img_url  \\\n",
       "0  1114679353714016256  http://pbs.twimg.com/tweet_video_thumb/D3gi9MH...   \n",
       "1  1063020048816660480  http://pbs.twimg.com/ext_tw_video_thumb/106301...   \n",
       "2  1108927368075374593     http://pbs.twimg.com/media/D2OzhzHUwAADQjd.jpg   \n",
       "3  1114558534635618305  http://pbs.twimg.com/ext_tw_video_thumb/111401...   \n",
       "4  1035252480215592966     http://pbs.twimg.com/media/Dl30pGIU8AAVGxO.jpg   \n",
       "\n",
       "      labels                                          tweet_url  \\\n",
       "0  [4, 1, 3]  https://twitter.com/user/status/11146793537140...   \n",
       "1  [5, 5, 5]  https://twitter.com/user/status/10630200488166...   \n",
       "2  [0, 0, 0]  https://twitter.com/user/status/11089273680753...   \n",
       "3  [1, 0, 0]  https://twitter.com/user/status/11145585346356...   \n",
       "4  [1, 0, 1]  https://twitter.com/user/status/10352524802155...   \n",
       "\n",
       "                                          tweet_text  \\\n",
       "0       @FriskDontMiss Nigga https://t.co/cAsaLWEpue   \n",
       "1     My horses are retarded https://t.co/HYhqc6d5WN   \n",
       "2  “NIGGA ON MA MOMMA YOUNGBOY BE SPITTING REAL S...   \n",
       "3  RT xxSuGVNGxx: I ran into this HOLY NIGGA TODA...   \n",
       "4  “EVERYbody calling you Nigger now!” https://t....   \n",
       "\n",
       "                          labels_str  \n",
       "0      [Religion, Racist, Homophobe]  \n",
       "1  [OtherHate, OtherHate, OtherHate]  \n",
       "2        [NotHate, NotHate, NotHate]  \n",
       "3         [Racist, NotHate, NotHate]  \n",
       "4          [Racist, NotHate, Racist]  "
      ]
     },
     "execution_count": 4,
     "metadata": {},
     "output_type": "execute_result"
    }
   ],
   "source": [
    "print('No. of rows: {} and columns are: {}'.format(data.shape[0],data.shape[1]))\n",
    "data.head()"
   ]
  },
  {
   "cell_type": "code",
   "execution_count": 5,
   "metadata": {},
   "outputs": [
    {
     "name": "stderr",
     "output_type": "stream",
     "text": [
      "[nltk_data] Downloading package stopwords to C:\\Users\\Aakash\n",
      "[nltk_data]     Sadaphule\\AppData\\Roaming\\nltk_data...\n",
      "[nltk_data]   Package stopwords is already up-to-date!\n",
      "[nltk_data] Downloading package rslp to C:\\Users\\Aakash\n",
      "[nltk_data]     Sadaphule\\AppData\\Roaming\\nltk_data...\n",
      "[nltk_data]   Package rslp is already up-to-date!\n",
      "[nltk_data] Downloading package punkt to C:\\Users\\Aakash\n",
      "[nltk_data]     Sadaphule\\AppData\\Roaming\\nltk_data...\n",
      "[nltk_data]   Package punkt is already up-to-date!\n"
     ]
    }
   ],
   "source": [
    "#importing packages for data preporcessing\n",
    "import nltk\n",
    "from nltk import tokenize\n",
    "from nltk.corpus import stopwords\n",
    "from nltk.tokenize import RegexpTokenizer, word_tokenize\n",
    "from nltk.stem import WordNetLemmatizer\n",
    "from nltk.stem.porter import PorterStemmer\n",
    "\n",
    "import ssl\n",
    "\n",
    "try:\n",
    "    _create_unverified_https_context = ssl._create_unverified_context\n",
    "except AttributeError:\n",
    "    pass\n",
    "else:\n",
    "    ssl._create_default_https_context = _create_unverified_https_context\n",
    "    \n",
    "nltk.download('stopwords')\n",
    "nltk.download('rslp')\n",
    "nltk.download('punkt')\n",
    "import re"
   ]
  },
  {
   "cell_type": "markdown",
   "metadata": {},
   "source": [
    "# Data preporcessing "
   ]
  },
  {
   "cell_type": "code",
   "execution_count": 6,
   "metadata": {},
   "outputs": [],
   "source": [
    "def preprocessing(data):\n",
    "    stemmer = nltk.stem.RSLPStemmer()\n",
    "    stop_words = stopwords.words('english')\n",
    "    stop_words.remove('not')\n",
    "    text_data = []\n",
    "    for tweet in data:\n",
    "      review = re.sub(r\"@[A-Za-z0-9_]+\", \" \", tweet)\n",
    "      review = re.sub('RT', ' ', review)\n",
    "      review = re.sub(r\"https?://[A-Za-z0-9./]+\", \" \", review)\n",
    "      review = re.sub(r\"https?\", \" \", review)\n",
    "      review = re.sub('[^a-zA-Z]', ' ', review)\n",
    "      review = review.lower()\n",
    "      review = review.split()\n",
    "      porter_stemmer = PorterStemmer()\n",
    "      review = [porter_stemmer.stem(word) for word in review if not word in set(stop_words) if len(word) > 2]\n",
    "      review = ' '.join(review)\n",
    "      text_data.append(review)\n",
    "\n",
    "    return np.array(text_data)"
   ]
  },
  {
   "cell_type": "code",
   "execution_count": 8,
   "metadata": {},
   "outputs": [
    {
     "data": {
      "text/plain": [
       "array(['nigga', 'hors retard',\n",
       "       'nigga momma youngboy spit real shit nigga', ...,\n",
       "       'nigga big shitti',\n",
       "       'say nigga rich amp said anger mmph lhhni lhhnyreunion',\n",
       "       'nigga joe budden said thano got galact ass'], dtype='<U110')"
      ]
     },
     "execution_count": 8,
     "metadata": {},
     "output_type": "execute_result"
    }
   ],
   "source": [
    "text_data = preprocessing(data['tweet_text'])\n",
    "text_data"
   ]
  },
  {
   "cell_type": "code",
   "execution_count": 9,
   "metadata": {},
   "outputs": [
    {
     "data": {
      "text/plain": [
       "0         4\n",
       "1         5\n",
       "2         0\n",
       "3         1\n",
       "4         1\n",
       "         ..\n",
       "149818    2\n",
       "149819    0\n",
       "149820    0\n",
       "149821    1\n",
       "149822    0\n",
       "Name: new_label, Length: 149823, dtype: int64"
      ]
     },
     "execution_count": 9,
     "metadata": {},
     "output_type": "execute_result"
    }
   ],
   "source": [
    "Nd = data.copy()\n",
    "Nd['labels'].value_counts\n",
    "new_label = []\n",
    "for x in Nd['labels'].values:\n",
    "    new_label.append(x[0])\n",
    "    \n",
    "Nd['new_label'] = new_label\n",
    "Nd['new_label']"
   ]
  },
  {
   "cell_type": "markdown",
   "metadata": {},
   "source": [
    "# TF-IDF"
   ]
  },
  {
   "cell_type": "code",
   "execution_count": 11,
   "metadata": {},
   "outputs": [],
   "source": [
    "#reading the dataset\n",
    "dataset_path = 'C:/Users/Aakash Sadaphule/Desktop/Untitled Folder/archive/MMHS150K_GT.json'\n",
    "with open(dataset_path, 'r') as f:\n",
    "  hs_data = json.loads(f.read())"
   ]
  },
  {
   "cell_type": "code",
   "execution_count": 12,
   "metadata": {},
   "outputs": [
    {
     "data": {
      "text/plain": [
       "[['1114679353714016256', '@FriskDontMiss Nigga https://t.co/cAsaLWEpue', 1],\n",
       " ['1063020048816660480', 'My horses are retarded https://t.co/HYhqc6d5WN', 1],\n",
       " ['1108927368075374593',\n",
       "  '“NIGGA ON MA MOMMA YOUNGBOY BE SPITTING REAL SHIT NIGGA” https://t.co/UczofqHrLq',\n",
       "  0],\n",
       " ['1114558534635618305',\n",
       "  'RT xxSuGVNGxx: I ran into this HOLY NIGGA TODAY 😭😭😭😭 https://t.co/Wa6Spl9kIw',\n",
       "  0],\n",
       " ['1035252480215592966',\n",
       "  '“EVERYbody calling you Nigger now!” https://t.co/6mguJ6KIBF',\n",
       "  0],\n",
       " ['1106978219654303744',\n",
       "  '“ real ass bitch give a fuck boutta nigga” https://t.co/YtyXf52oGi',\n",
       "  0],\n",
       " ['1113920043568463874',\n",
       "  '@WhiteHouse @realDonaldTrump Fuck ice. White supremacist trash. All of you are racist garbage. https://t.co/o2OB4yUnex',\n",
       "  1],\n",
       " ['1114588617693966336', 'Day’s a cunt https://t.co/Ie6QZReHsw', 0],\n",
       " ['1045809514740666370', '#sissy faggot https://t.co/bm1nk8HcYO', 0],\n",
       " ['1108178453910695936', '@Gloriko_ Nigga what? https://t.co/nOwIJtgtU1', 0]]"
      ]
     },
     "execution_count": 12,
     "metadata": {},
     "output_type": "execute_result"
    }
   ],
   "source": [
    "to_label = lambda labels_list: [0 if x == 0 else 1 for x in labels_list]\n",
    "label = lambda labels_list: [0 if x == 0 else 1 for x in labels_list]\n",
    "flattened = [[key, val['tweet_text'], 1 if sum(to_label(val['labels'])) ==3 else 0] \n",
    "             for key, val in hs_data.items()]\n",
    "flattened[:10]"
   ]
  },
  {
   "cell_type": "code",
   "execution_count": 13,
   "metadata": {},
   "outputs": [
    {
     "data": {
      "text/plain": [
       "[['1114679353714016256', '@FriskDontMiss Nigga https://t.co/cAsaLWEpue', 1],\n",
       " ['1063020048816660480', 'My horses are retarded https://t.co/HYhqc6d5WN', 1],\n",
       " ['1108927368075374593',\n",
       "  '“NIGGA ON MA MOMMA YOUNGBOY BE SPITTING REAL SHIT NIGGA” https://t.co/UczofqHrLq',\n",
       "  0],\n",
       " ['1114558534635618305',\n",
       "  'RT xxSuGVNGxx: I ran into this HOLY NIGGA TODAY 😭😭😭😭 https://t.co/Wa6Spl9kIw',\n",
       "  0],\n",
       " ['1035252480215592966',\n",
       "  '“EVERYbody calling you Nigger now!” https://t.co/6mguJ6KIBF',\n",
       "  0],\n",
       " ['1106978219654303744',\n",
       "  '“ real ass bitch give a fuck boutta nigga” https://t.co/YtyXf52oGi',\n",
       "  0],\n",
       " ['1113920043568463874',\n",
       "  '@WhiteHouse @realDonaldTrump Fuck ice. White supremacist trash. All of you are racist garbage. https://t.co/o2OB4yUnex',\n",
       "  1],\n",
       " ['1114588617693966336', 'Day’s a cunt https://t.co/Ie6QZReHsw', 0],\n",
       " ['1045809514740666370', '#sissy faggot https://t.co/bm1nk8HcYO', 0],\n",
       " ['1108178453910695936', '@Gloriko_ Nigga what? https://t.co/nOwIJtgtU1', 0]]"
      ]
     },
     "execution_count": 13,
     "metadata": {},
     "output_type": "execute_result"
    }
   ],
   "source": [
    "import numpy\n",
    "HD = numpy.array(flattened)\n",
    "HD = flattened\n",
    "HD[:10]"
   ]
  },
  {
   "cell_type": "code",
   "execution_count": 14,
   "metadata": {},
   "outputs": [
    {
     "name": "stdout",
     "output_type": "stream",
     "text": [
      "Requirement already satisfied: sklearn in c:\\programdata\\anaconda3\\lib\\site-packages (0.0)\n",
      "Requirement already satisfied: scikit-learn in c:\\programdata\\anaconda3\\lib\\site-packages (from sklearn) (0.23.2)\n",
      "Requirement already satisfied: threadpoolctl>=2.0.0 in c:\\programdata\\anaconda3\\lib\\site-packages (from scikit-learn->sklearn) (2.1.0)\n",
      "Requirement already satisfied: scipy>=0.19.1 in c:\\programdata\\anaconda3\\lib\\site-packages (from scikit-learn->sklearn) (1.5.2)\n",
      "Requirement already satisfied: joblib>=0.11 in c:\\programdata\\anaconda3\\lib\\site-packages (from scikit-learn->sklearn) (0.17.0)\n",
      "Requirement already satisfied: numpy>=1.13.3 in c:\\programdata\\anaconda3\\lib\\site-packages (from scikit-learn->sklearn) (1.19.2)\n"
     ]
    }
   ],
   "source": [
    "!pip install sklearn"
   ]
  },
  {
   "cell_type": "code",
   "execution_count": 15,
   "metadata": {},
   "outputs": [],
   "source": [
    "from sklearn.feature_extraction.text import TfidfVectorizer"
   ]
  },
  {
   "cell_type": "code",
   "execution_count": 16,
   "metadata": {},
   "outputs": [],
   "source": [
    "def vectorizer(text_data) -> list:\n",
    "    vectorizer = TfidfVectorizer(\n",
    "        analyzer=\"word\",\n",
    "        tokenizer=None,\n",
    "        preprocessor=None,\n",
    "        stop_words=stopwords.words('english'),\n",
    "        strip_accents=\"ascii\",\n",
    "        token_pattern=\"^[a-zA-Z0-9_][a-zA-Z0-9_][a-zA-Z0-9_]*\",\n",
    "        sublinear_tf=True, \n",
    "        min_df=5, \n",
    "        norm='l2', \n",
    "        encoding='latin-1', \n",
    "        ngram_range=(1, 2),\n",
    "        max_features=1000\n",
    "    )\n",
    "\n",
    "    train_data_features = vectorizer.fit_transform(text_data)\n",
    "    print(f'vocabulary: {vectorizer.vocabulary_}')\n",
    "    print(f'vocabulary size is {len(vectorizer.vocabulary_)}')\n",
    "\n",
    "    return train_data_features"
   ]
  },
  {
   "cell_type": "code",
   "execution_count": 17,
   "metadata": {},
   "outputs": [
    {
     "name": "stdout",
     "output_type": "stream",
     "text": [
      "vocabulary: {'nigga': 589, 'rt': 695, 'everybody': 260, 'days': 208, 'im': 431, 'dat': 203, 'fuck': 314, 'look': 522, 'happy': 373, 'stfu': 798, 'hes': 391, 'cardi': 141, 'broke': 124, 'funniest': 321, 'big': 90, 'sjws': 746, 'thats': 845, 'like': 493, 'wanna': 930, 'free': 307, 'right': 690, 'something': 765, 'faggot': 274, 'proud': 656, 'jason': 449, 'yes': 984, 'stupid': 810, 'surrender': 820, 'van': 918, 'quick': 664, 'watch': 934, 'lmao': 503, 'youtube': 997, 'redneck': 678, 'say': 705, 'aint': 25, 'white': 950, 'break': 119, 'man': 537, 'hol': 401, 'full': 319, 'god': 345, 'nip': 593, 'live': 502, 'wow': 975, 'clean': 162, 'yall': 978, 'father': 278, 'ugh': 906, 'click': 163, 'sold': 761, 'new': 583, 'dropped': 238, 'get': 333, 'whats': 946, 'guess': 362, 'bde': 78, 'really': 676, 'real': 673, 'via': 919, 'keep': 461, 'beautiful': 80, 'dudes': 240, 'swear': 821, 'wtf': 976, 'michael': 555, 'someone': 764, 'censored': 148, 'another': 47, 'wen': 941, 'sad': 700, 'birthday': 93, 'henry': 389, 'gotta': 356, 'bruh': 126, 'wait': 924, 'ive': 444, 'everyone': 262, 'friend': 312, 'idk': 426, 'yung': 998, 'amy': 41, 'honestly': 406, 'cunt': 189, 'stay': 795, 'yooooo': 993, 'bonnie': 105, 'nobody': 596, 'omg': 613, 'finally': 291, 'dont': 229, 'gonna': 349, 'make': 535, 'newegg': 584, 'ok': 608, 'wigger': 956, 'open': 618, 'back': 73, 'never': 582, 'next': 585, 'share': 721, 'race': 665, 'ill': 429, 'nigger': 591, 'ay': 67, 'hipsters': 396, 'oops': 617, 'cheltenham': 153, 'ion': 437, 'niggas': 590, 'hbd': 381, 'come': 171, 'behind': 81, 'imagine': 434, 'naw': 578, 'literally': 500, 'shit': 724, 'trust': 891, 'ah': 22, 'miss': 559, 'officer': 604, 'lmfaooooo': 515, 'shawty': 722, 'straight': 803, 'trailer': 878, 'theres': 847, 'see': 708, 'nah': 573, 'young': 995, 'lil': 495, 'throw': 856, 'people': 627, 'need': 580, 'potus': 640, 'lets': 488, 'hillbilly': 395, 'looking': 524, 'lol': 520, 'getting': 334, 'neck': 579, '50': 13, 'french': 308, '1st': 7, 'link': 497, 'retarded': 685, 'let': 487, 'fucking': 317, 'yoooo': 992, 'heres': 390, 'https': 416, 'using': 917, 'damn': 200, 'ya': 977, 'aye': 68, 'hit': 397, 'taylor': 829, 'lmaooooo': 507, 'lmaooooooooo': 510, 'prosecutor': 654, 'havent': 380, 'cant': 138, 'hate': 378, 'lmaooo': 505, 'goodnight': 352, 'wife': 955, 'love': 529, 'bitch': 95, 'sometimes': 766, 'bro': 123, 'group': 360, 'fat': 277, 'imma': 435, 'blonde': 100, 'one': 614, 'today': 866, 'nothing': 598, 'thick': 849, 'first': 296, 'wonder': 967, 'went': 943, 'mlb': 562, 'idc': 424, 'gay': 330, 'also': 34, 'rich': 687, 'conspiracy': 178, 'dyke': 243, 'rip': 691, 'hey': 392, 'great': 358, 'eminem': 249, 'trump': 889, 'wild': 957, 'whos': 953, 'oh': 605, 'deep': 211, 'running': 699, 'well': 939, 'good': 350, 'apple': 56, 'call': 133, 'atm': 64, 'street': 805, 'fuckin': 316, 'tf': 839, 'massive': 540, 'bad': 74, 'thought': 852, 'pull': 659, 'every': 259, 'random': 668, 'bethenny': 86, 'retard': 684, 'go': 344, 'friday': 311, 'limey': 496, 'hello': 387, 'john': 456, 'glenn': 343, 'anyway': 53, 'alexis': 30, 'okay': 609, 'according': 17, 'congratulations': 176, 'black': 97, 'sjw': 745, 'brazil': 117, 'sweet': 822, 'lmfao': 511, 'lesbian': 485, 'skinny': 747, 'take': 824, 'got': 355, 'definitely': 213, 'twat': 898, 'jihadists': 453, 'beat': 79, 'took': 874, 'fck': 279, 'amen': 38, 'wembley': 940, 'thanks': 843, 'smoke': 754, 'cutest': 193, 'bum': 130, 'rube': 696, 'vintage': 921, 'might': 556, 'taking': 825, 'aw': 65, 'finna': 294, 'cute': 192, 'play': 632, 'hot': 414, 'show': 731, 'unpopular': 911, 'yo': 988, 'yoo': 989, 'book': 106, 'dick': 217, 'update': 912, 'looks': 525, 'two': 902, 'uh': 908, '10': 0, 'would': 973, 'yea': 981, 'time': 862, 'found': 305, 'little': 501, 'dis': 223, 'ever': 258, 'mfs': 553, 'typical': 905, 'holy': 403, 'going': 346, 'clown': 164, 'heard': 383, 'self': 712, 'tonight': 872, 'shout': 729, 'dam': 199, 'everytime': 265, 'stripes': 808, 'blue': 102, 'shes': 723, 'hood': 407, 'yg': 986, 'watching': 935, 'picture': 631, 'uk': 909, 'conservative': 177, 'halloween': 371, 'ima': 432, 'nicki': 588, 'please': 634, 'lesbians': 486, 'brand': 116, 'kinda': 467, 'save': 703, 'isnt': 441, 'riding': 689, 'mary': 539, 'bts': 127, 'sooo': 770, 'dem': 214, 'add': 21, 'sis': 741, 'controversial': 180, 'car': 140, 'wishing': 962, 'forever': 302, 'money': 566, 'mr': 571, 'bitches': 96, 'small': 750, 'put': 662, 'mfw': 554, 'waiting': 925, 'tryna': 894, 'drake': 233, 'feeling': 282, 'choppa': 158, 'spic': 779, 'ayo': 69, 'chicago': 154, 'true': 888, 'learn': 480, 'felt': 284, 'evening': 257, 'made': 532, 'short': 726, 'last': 477, 'monday': 565, 'remember': 679, 'lmaoo': 504, 'started': 792, 'aintree': 26, 'twitter': 901, 'sick': 734, 'mentally': 551, 'city': 160, 'feel': 280, 'listening': 499, 'playing': 633, 'tired': 864, 'double': 230, 'stop': 801, 'cheating': 149, 'ybn': 979, 'dumbass': 242, 'sir': 739, 'ass': 63, 'david': 205, 'nice': 586, 'namjoon': 576, 'racist': 666, 'busty': 131, 'shut': 733, 'mood': 567, 'posting': 639, 'absolute': 15, 'spider': 782, 'still': 800, 'sorry': 773, 'daddy': 197, 'pop': 638, 'daniel': 201, 'danny': 202, 'whenever': 947, 'ex': 266, 'breaking': 120, 'shoot': 725, 'da': 195, 'texas': 838, 'girl': 337, 'ian': 421, 'exposed': 270, 'paragliding': 619, 'king': 468, 'bit': 94, 'maybe': 544, 'excuse': 269, 'heejin': 385, 'give': 339, 'respect': 682, 'judge': 457, 'nasty': 577, 'forget': 303, 'spotted': 784, 'proof': 651, 'thank': 842, 'slow': 749, 'hope': 408, 'ariana': 58, 'lmfaooo': 513, 'crazy': 187, 'anybody': 50, 'sexy': 719, 'ugly': 907, 'alright': 33, 'speaking': 776, 'ight': 427, 'kim': 466, '2nd': 11, 'tell': 836, 'logic': 519, 'ol': 610, 'told': 869, 'read': 671, 'fuk': 318, 'check': 150, 'snatch': 758, 'lost': 528, 'dude': 239, 'couldnt': 184, 'tokyo': 868, 'gop': 354, 'showing': 732, 'soft': 760, 'eat': 246, 'son': 768, 'mature': 543, 'cold': 167, 'sound': 774, 'sent': 716, 'welcome': 938, 'anyone': 51, 'ron': 694, 'asian': 60, 'name': 575, 'jack': 445, 'ladies': 472, 'us': 914, 'cuz': 194, 'soooo': 771, 'designing': 216, 'james': 447, 'summer': 813, 'lmaooooooo': 509, 'screaming': 707, 'men': 550, 'dumb': 241, 'ask': 61, 'best': 84, 'sooooo': 772, 'somebody': 763, 'dirty': 222, 'sun': 814, 'amateur': 36, 'actually': 19, 'biggest': 91, 'everything': 264, 'country': 185, 'lucy': 531, 'perfect': 628, 'pussy': 661, 'daily': 198, 'princess': 648, 'ur': 913, 'yeah': 982, 'azealia': 70, 'illinois': 430, 'feminazi': 286, 'team': 834, 'step': 796, 'worst': 972, 'day': 207, 'listen': 498, '100': 1, 'lamb': 474, 'giveaway': 340, 'lakers': 473, 'bring': 122, 'nsfw': 599, 'bernie': 83, 'rule': 697, 'youre': 996, 'want': 931, 'bloody': 101, 'paul': 625, 'id': 423, 'spicy': 781, 'prettiest': 646, 'trending': 884, 'grand': 357, 'al': 27, 'la': 471, 'local': 518, 'super': 817, 'solid': 762, 'girls': 338, 'theresa': 848, 'bought': 109, 'fly': 298, 'anyways': 54, 'cum': 188, 'pls': 635, 'throwback': 857, 'ahhh': 23, 'boys': 112, 'american': 40, 'competition': 174, 'almost': 31, 'old': 611, 'lmfaoooo': 514, 'thousands': 854, 'fight': 288, 'making': 536, 'final': 290, 'mah': 534, 'send': 714, 'huge': 417, 'democrats': 215, 'realist': 675, 'hundreds': 419, 'arab': 57, 'kodak': 470, 'light': 492, 'cause': 146, 'game': 325, 'thinking': 851, 'haha': 366, 'matt': 542, 'hall': 370, 'fine': 293, 'jus': 459, 'thanos': 844, 'whew': 949, 'tune': 895, 'smh': 752, 'celebrating': 147, 'pro': 649, 'billy': 92, 'walking': 929, 'lebron': 482, 'brazzers': 118, 'support': 818, 'rare': 669, 'islamic': 440, 'roll': 693, 'run': 698, 'idgaf': 425, 'move': 570, 'giving': 341, 'handsome': 372, 'bet': 85, 'starting': 793, 'smile': 753, 'start': 791, 'hopefully': 409, 'gone': 348, 'beyonce': 89, 'niteflirt': 595, 'morning': 569, 'top': 875, 'hell': 386, 'cool': 181, '12': 2, 'brother': 125, 'life': 491, 'females': 285, 'tiffany': 860, 'everyones': 263, 'fake': 275, 'better': 88, 'yesterday': 985, 'bob': 103, 'guys': 364, 'currently': 190, 'didnt': 218, 'hi': 393, 'late': 478, 'use': 915, 'non': 597, 'donald': 228, 'meet': 548, 'aight': 24, 'lookin': 523, 'hoe': 399, 'already': 32, 'um': 910, 'oomf': 616, 'canny': 137, 'asked': 62, 'pre': 643, 'kids': 464, 'baby': 72, 'sending': 715, 'catch': 144, 'funny': 322, 'students': 809, 'forgot': 304, '21': 10, 'hoes': 400, 'butch': 132, 'teen': 835, 'horny': 410, 'issa': 443, 'realest': 674, 'laquan': 476, 'west': 944, 'sam': 702, 'pathetic': 624, 'lewis': 489, 'mike': 557, 'cheers': 152, 'pretty': 647, 'nipsey': 594, 'always': 35, 'star': 790, 'build': 129, 'ye': 980, 'hurry': 420, 'dawg': 206, 'dog': 226, 'psa': 657, 'islam': 439, 'retweet': 686, 'israel': 442, 'whys': 954, 'hold': 402, 'thug': 858, 'tb': 830, 'calling': 135, 'trash': 882, 'contest': 179, 'drive': 236, 'nail': 574, 'chris': 159, 'tbt': 832, 'flyest': 299, 'treat': 883, 'alexa': 29, 'whatever': 945, 'stretch': 807, 'angela': 44, 'trying': 893, 'fire': 295, 'rest': 683, 'hahaha': 367, 'even': 256, 'video': 920, 'anthony': 48, 'said': 701, 'try': 892, 'anal': 42, 'peep': 626, 'mrs': 572, 'yup': 999, 'dildo': 220, 'hardcore': 375, 'left': 483, 'wisconsin': 960, 'absolutely': 16, 'drip': 235, 'since': 738, 'excited': 267, 'tried': 887, 'saw': 704, 'huh': 418, 'tyler': 903, 'yoongi': 990, 'anytime': 52, 'trap': 881, 'sneaky': 759, 'fw': 324, 'lmaoooo': 506, 'yooo': 991, 'suck': 811, 'high': 394, 'seeing': 709, 'fucked': 315, 'twit': 900, 'julian': 458, 'fresh': 309, 'wheres': 948, 'touch': 877, 'gas': 328, 'pray': 642, 'part': 623, 'jesus': 451, 'training': 880, 'apparently': 55, 'ready': 672, 'kevin': 462, 'joey': 455, 'brie': 121, 'meek': 547, 'wish': 961, 'spent': 778, 'offas': 603, 'seen': 711, 'enough': 252, 'kanye': 460, 'think': 850, 'follow': 300, 'tfw': 840, 'magic': 533, 'future': 323, 'whoever': 951, 'aww': 66, 'called': 134, 'harry': 377, 'police': 636, 'state': 794, 'act': 18, 'bran': 115, 'type': 904, 'china': 156, 'drop': 237, 'shoutout': 730, 'cut': 191, 'dear': 210, 'spice': 780, 'bald': 75, 'find': 292, 'gang': 327, 'growth': 361, 'reminder': 680, 'japanese': 448, 'seems': 710, 'colossal': 170, '15': 5, 'bra': 113, 'adam': 20, 'babecock': 71, 'woke': 965, 'report': 681, 'tbh': 831, 'red': 677, 'poor': 637, 'women': 966, 'gamergate': 326, 'help': 388, 'know': 469, 'gretchen': 359, 'isis': 438, 'prosecutors': 655, 'freshest': 310, 'face': 271, 'ice': 422, 'sum': 812, 'doja': 227, 'mark': 538, 'spot': 783, 'ti': 859, 'colombian': 169, 'ben': 82, 'lemme': 484, 'ray': 670, 'trumps': 890, 'leave': 481, 'silly': 737, 'either': 247, 'border': 107, 'sike': 736, 'public': 658, 'came': 136, 'lovely': 530, 'phil': 629, 'carti': 142, 'jay': 450, 'wouldnt': 974, 'prosecution': 653, 'worship': 971, 'btw': 128, 'walk': 928, 'food': 301, 'snapchat': 757, 'gon': 347, 'boy': 111, 'moral': 568, 'fam': 276, 'ride': 688, 'soon': 769, 'thoughts': 853, 'lmfaoo': 512, 'wassup': 933, 'dad': 196, 'liked': 494, 'yep': 983, 'fucc': 313, 'ik': 428, 'hottest': 415, 'wake': 926, 'felicity': 283, 'side': 735, 'sure': 819, 'terror': 837, '30': 12, 'lmfaoooooo': 516, 'three': 855, 'therapist': 846, 'teacher': 833, 'dead': 209, 'cocky': 166, 'could': 183, 'missing': 561, 'ppl': 641, 'disgusting': 224, 'tomorrow': 871, 'tap': 828, 'defense': 212, 'court': 186, 'times': 863, 'rob': 692, 'hairy': 369, 'boss': 108, 'pure': 660, 'trial': 885, 'cat': 143, 'meanwhile': 546, 'serving': 718, 'instrumental': 436, 'german': 332, 'mean': 545, 'tony': 873, 'train': 879, 'bless': 98, 'smug': 756, 'tweet': 899, 'winter': 958, 'long': 521, 'gave': 329, 'alex': 28, 'arthur': 59, 'work': 969, 'hmmmm': 398, 'omfg': 612, 'exclusive': 268, 'early': 244, 'bobby': 104, 'parked': 621, 'obviously': 601, 'guy': 363, 'paris': 620, 'parking': 622, 'caught': 145, 'goofy': 353, 'hardest': 376, 'glad': 342, 'eric': 255, 'cheeky': 151, 'lord': 526, 'jacob': 446, 'bazinga': 77, 'home': 404, 'odell': 602, 'talk': 826, 'turn': 896, 'tag': 823, 'proper': 652, 'siri': 740, 'says': 706, 'lmaoooooo': 508, 'sissy': 742, 'lmfaooooooo': 517, 'enter': 253, 'strapped': 804, 'oi': 607, 'word': 968, 'jigga': 452, 'filthy': 289, 'cmon': 165, 'ha': 365, 'ginger': 336, 'hard': 374, 'lick': 490, 'ffs': 287, 'smoking': 755, 'classic': 161, 'south': 775, 'drinking': 234, 'pick': 630, 'enjoy': 250, 'heart': 384, 'woah': 964, 'head': 382, 'wendy': 942, '13': 3, 'ooh': 615, 'hahahahaha': 368, 'wipe': 959, 'gays': 331, 'lori': 527, 'working': 970, 'master': 541, 'enjoying': 251, 'kill': 465, 'hating': 379, 'tits': 865, 'ohh': 606, 'coming': 173, 'steve': 797, 'megan': 549, 'met': 552, 'epic': 254, 'dr': 232, 'dj': 225, 'anti': 49, 'facebook': 272, 'kid': 463, 'chinaman': 157, 'weird': 937, 'lame': 475, 'whole': 952, 'captain': 139, '20': 8, 'chief': 155, 'youll': 994, 'used': 916, 'coldest': 168, '14': 4, 'todays': 867, 'nick': 587, 'mom': 563, 'blocked': 99, 'momma': 564, 'visual': 922, 'quand': 663, 'missin': 560, 'download': 231, 'slim': 748, 'bout': 110, 'seriously': 717, 'direct': 221, 'size': 744, 'hoseok': 413, 'shot': 728, 'st': 787, 'story': 802, 'tha': 841, '2019': 9, 'sup': 816, 'sunday': 815, 'fag': 273, 'tight': 861, 'trick': 886, 'horrible': 411, 'nvm': 600, 'president': 644, 'square': 786, 'wit': 963, 'easy': 245, 'lately': 479, 'amber': 37, 'shorty': 727, 'florida': 297, 'brah': 114, 'everyday': 261, 'dating': 204, 'image': 433, 'fun': 320, 'talking': 827, 'wanted': 932, 'ran': 667, '911': 14, 'jimin': 454, 'total': 876, 'sitting': 743, 'spring': 785, 'turned': 897, 'streets': 806, 'stick': 799, 'homeless': 405, 'tom': 870, 'stand': 789, 'probably': 650, 'frank': 306, 'congrats': 175, 'feelin': 281, 'wearing': 936, 'america': 39, 'presidential': 645, 'shane': 720, 'special': 777, 'waking': 927, 'coolest': 182, 'comic': 172, 'neil': 581, 'goodmorning': 351, 'vote': 923, 'milf': 558, '16': 6, 'annoying': 45, 'different': 219, 'andrew': 43, 'horse': 412, 'beto': 87, 'selfish': 713, 'anon': 46, 'stan': 788, 'yikes': 987, 'gimme': 335, 'night': 592, 'basically': 76, 'emily': 248, 'somewhere': 767, 'smart': 751}\n",
      "vocabulary size is 1000\n"
     ]
    },
    {
     "data": {
      "text/plain": [
       "(149823, 1000)"
      ]
     },
     "execution_count": 17,
     "metadata": {},
     "output_type": "execute_result"
    }
   ],
   "source": [
    "numpy_data = np.array(HD)\n",
    "features = numpy_data[:,1]\n",
    "labels = numpy_data[:,2]\n",
    "vectorized = vectorizer(features)\n",
    "vectorized.shape"
   ]
  },
  {
   "cell_type": "markdown",
   "metadata": {},
   "source": [
    "# Neural Network"
   ]
  },
  {
   "cell_type": "code",
   "execution_count": 18,
   "metadata": {},
   "outputs": [],
   "source": [
    "from sklearn.model_selection import train_test_split\n",
    "X = vectorized\n",
    "y = labels\n",
    "X_train, X_test, y_train, y_test = train_test_split(\n",
    "    X, y, test_size=0.3, random_state=42)"
   ]
  },
  {
   "cell_type": "code",
   "execution_count": 19,
   "metadata": {},
   "outputs": [
    {
     "data": {
      "text/plain": [
       "MLPClassifier(alpha=1e-05, hidden_layer_sizes=(30,), random_state=2,\n",
       "              solver='sgd')"
      ]
     },
     "execution_count": 19,
     "metadata": {},
     "output_type": "execute_result"
    }
   ],
   "source": [
    "from sklearn.feature_extraction.text import CountVectorizer\n",
    "from sklearn.feature_extraction.text import TfidfTransformer\n",
    "from sklearn.naive_bayes import MultinomialNB\n",
    "from sklearn.neural_network import MLPClassifier\n",
    "\n",
    "# clf = MultinomialNB().fit(X_train, y_train)\n",
    "clf = MLPClassifier(solver='sgd', \n",
    "                    alpha=1e-5,\n",
    "                    hidden_layer_sizes=(30,), \n",
    "                    random_state=2)\n",
    "clf.fit(X_train, y_train)"
   ]
  },
  {
   "cell_type": "markdown",
   "metadata": {},
   "source": [
    "# Report metrics like precision, recall, F1-score, RUC curve."
   ]
  },
  {
   "cell_type": "code",
   "execution_count": 20,
   "metadata": {},
   "outputs": [
    {
     "name": "stdout",
     "output_type": "stream",
     "text": [
      "Accuracy score is: 0.9427\n",
      "\n"
     ]
    }
   ],
   "source": [
    "from sklearn.metrics import accuracy_score\n",
    "results = clf.predict(X_test)\n",
    "accuracy = accuracy_score(y_test, results)\n",
    "print(\"Accuracy score is: %.4f\\n\" % accuracy)"
   ]
  },
  {
   "cell_type": "code",
   "execution_count": 31,
   "metadata": {},
   "outputs": [
    {
     "name": "stdout",
     "output_type": "stream",
     "text": [
      "Precision value is: 0.889\n",
      "\n"
     ]
    }
   ],
   "source": [
    "from sklearn.metrics import precision_score\n",
    "precision = precision_score(y_test, results, pos_label= 1, average= 'weighted')\n",
    "print('Precision value is: %.3f\\n' % precision)"
   ]
  },
  {
   "cell_type": "code",
   "execution_count": 33,
   "metadata": {},
   "outputs": [
    {
     "name": "stdout",
     "output_type": "stream",
     "text": [
      "Recall value is : 0.943\n",
      "\n"
     ]
    }
   ],
   "source": [
    "from sklearn.metrics import recall_score\n",
    "recall = recall_score(y_test, results, pos_label= 1,average= 'micro')\n",
    "print('Recall value is : %.3f\\n' % recall)"
   ]
  },
  {
   "cell_type": "code",
   "execution_count": 30,
   "metadata": {},
   "outputs": [
    {
     "name": "stdout",
     "output_type": "stream",
     "text": [
      "F1 score is : 0.915\n",
      "\n"
     ]
    }
   ],
   "source": [
    "from sklearn.metrics import f1_score\n",
    "f1 = f1_score(y_test, results, pos_label= 'positive',average= 'weighted')\n",
    "print('F1 score is : %.3f\\n' % f1)"
   ]
  },
  {
   "cell_type": "code",
   "execution_count": 35,
   "metadata": {},
   "outputs": [],
   "source": [
    "import matplotlib.pyplot as plt \n",
    "import sklearn.metrics as metrics\n",
    "from sklearn.metrics import roc_curve\n",
    "from sklearn.metrics import auc\n",
    "from sklearn.metrics import roc_auc_score\n"
   ]
  },
  {
   "cell_type": "code",
   "execution_count": 42,
   "metadata": {},
   "outputs": [
    {
     "data": {
      "image/png": "[encoded data removed]",
      "text/plain": [
       "<Figure size 432x288 with 1 Axes>"
      ]
     },
     "metadata": {
      "needs_background": "light"
     },
     "output_type": "display_data"
    }
   ],
   "source": [
    "#ROC-AUC Chart\n",
    "metrics.plot_roc_curve(clf, X_test, y_test)  \n",
    "plt.show()"
   ]
  },
  {
   "cell_type": "code",
   "execution_count": null,
   "metadata": {},
   "outputs": [],
   "source": []
  }
 ],
 "metadata": {
  "kernelspec": {
   "display_name": "Python 3",
   "language": "python",
   "name": "python3"
  },
  "language_info": {
   "codemirror_mode": {
    "name": "ipython",
    "version": 3
   },
   "file_extension": ".py",
   "mimetype": "text/x-python",
   "name": "python",
   "nbconvert_exporter": "python",
   "pygments_lexer": "ipython3",
   "version": "3.8.5"
  }
 },
 "nbformat": 4,
 "nbformat_minor": 4
}
